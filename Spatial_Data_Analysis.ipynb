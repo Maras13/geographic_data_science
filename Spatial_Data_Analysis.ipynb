{
 "cells": [
  {
   "cell_type": "markdown",
   "id": "d1c910ca",
   "metadata": {},
   "source": [
    "- Spatial Data Analysis or ESDA !"
   ]
  },
  {
   "cell_type": "code",
   "execution_count": 17,
   "id": "a963af4f",
   "metadata": {},
   "outputs": [],
   "source": [
    "import seaborn\n",
    "import pandas\n",
    "import geopandas\n",
    "import pysal\n",
    "import numpy\n",
    "import matplotlib.pyplot as plt"
   ]
  },
  {
   "cell_type": "code",
   "execution_count": 23,
   "id": "436b42f7",
   "metadata": {},
   "outputs": [],
   "source": [
    "mx = geopandas.read_file(\"/Users/saramaras/Documents/github/machine_learning_gis/geo_data/mexico/mexicojoin.shp\")\n"
   ]
  },
  {
   "cell_type": "code",
   "execution_count": 52,
   "id": "a3946d88",
   "metadata": {},
   "outputs": [
    {
     "data": {
      "text/html": [
       "<div>\n",
       "<style scoped>\n",
       "    .dataframe tbody tr th:only-of-type {\n",
       "        vertical-align: middle;\n",
       "    }\n",
       "\n",
       "    .dataframe tbody tr th {\n",
       "        vertical-align: top;\n",
       "    }\n",
       "\n",
       "    .dataframe thead th {\n",
       "        text-align: right;\n",
       "    }\n",
       "</style>\n",
       "<table border=\"1\" class=\"dataframe\">\n",
       "  <thead>\n",
       "    <tr style=\"text-align: right;\">\n",
       "      <th></th>\n",
       "      <th>NAME</th>\n",
       "      <th>PCGDP1940</th>\n",
       "    </tr>\n",
       "  </thead>\n",
       "  <tbody>\n",
       "    <tr>\n",
       "      <th>0</th>\n",
       "      <td>Baja California Norte</td>\n",
       "      <td>22361.0</td>\n",
       "    </tr>\n",
       "    <tr>\n",
       "      <th>1</th>\n",
       "      <td>Baja California Sur</td>\n",
       "      <td>9573.0</td>\n",
       "    </tr>\n",
       "    <tr>\n",
       "      <th>2</th>\n",
       "      <td>Nayarit</td>\n",
       "      <td>4836.0</td>\n",
       "    </tr>\n",
       "    <tr>\n",
       "      <th>3</th>\n",
       "      <td>Jalisco</td>\n",
       "      <td>5309.0</td>\n",
       "    </tr>\n",
       "    <tr>\n",
       "      <th>4</th>\n",
       "      <td>Aguascalientes</td>\n",
       "      <td>10384.0</td>\n",
       "    </tr>\n",
       "    <tr>\n",
       "      <th>5</th>\n",
       "      <td>Guanajuato</td>\n",
       "      <td>4359.0</td>\n",
       "    </tr>\n",
       "    <tr>\n",
       "      <th>6</th>\n",
       "      <td>Queretaro de Arteaga</td>\n",
       "      <td>11016.0</td>\n",
       "    </tr>\n",
       "    <tr>\n",
       "      <th>7</th>\n",
       "      <td>Hidalgo</td>\n",
       "      <td>4414.0</td>\n",
       "    </tr>\n",
       "    <tr>\n",
       "      <th>8</th>\n",
       "      <td>Michoacan de Ocampo</td>\n",
       "      <td>3327.0</td>\n",
       "    </tr>\n",
       "    <tr>\n",
       "      <th>9</th>\n",
       "      <td>Mexico</td>\n",
       "      <td>3408.0</td>\n",
       "    </tr>\n",
       "    <tr>\n",
       "      <th>10</th>\n",
       "      <td>Distrito Federal</td>\n",
       "      <td>17816.0</td>\n",
       "    </tr>\n",
       "    <tr>\n",
       "      <th>11</th>\n",
       "      <td>Colima</td>\n",
       "      <td>6909.0</td>\n",
       "    </tr>\n",
       "    <tr>\n",
       "      <th>12</th>\n",
       "      <td>Morelos</td>\n",
       "      <td>6936.0</td>\n",
       "    </tr>\n",
       "    <tr>\n",
       "      <th>13</th>\n",
       "      <td>Yucatan</td>\n",
       "      <td>7990.0</td>\n",
       "    </tr>\n",
       "    <tr>\n",
       "      <th>14</th>\n",
       "      <td>Campeche</td>\n",
       "      <td>3758.0</td>\n",
       "    </tr>\n",
       "    <tr>\n",
       "      <th>15</th>\n",
       "      <td>Puebla</td>\n",
       "      <td>3569.0</td>\n",
       "    </tr>\n",
       "    <tr>\n",
       "      <th>16</th>\n",
       "      <td>Quintana Roo</td>\n",
       "      <td>21965.0</td>\n",
       "    </tr>\n",
       "    <tr>\n",
       "      <th>17</th>\n",
       "      <td>Tlaxcala</td>\n",
       "      <td>3605.0</td>\n",
       "    </tr>\n",
       "    <tr>\n",
       "      <th>18</th>\n",
       "      <td>Guerrero</td>\n",
       "      <td>2181.0</td>\n",
       "    </tr>\n",
       "    <tr>\n",
       "      <th>19</th>\n",
       "      <td>Oaxaca</td>\n",
       "      <td>1892.0</td>\n",
       "    </tr>\n",
       "    <tr>\n",
       "      <th>20</th>\n",
       "      <td>Tabasco</td>\n",
       "      <td>2459.0</td>\n",
       "    </tr>\n",
       "    <tr>\n",
       "      <th>21</th>\n",
       "      <td>Chiapas</td>\n",
       "      <td>2934.0</td>\n",
       "    </tr>\n",
       "    <tr>\n",
       "      <th>22</th>\n",
       "      <td>Sonora</td>\n",
       "      <td>6399.0</td>\n",
       "    </tr>\n",
       "    <tr>\n",
       "      <th>23</th>\n",
       "      <td>Chihuahua</td>\n",
       "      <td>8578.0</td>\n",
       "    </tr>\n",
       "    <tr>\n",
       "      <th>24</th>\n",
       "      <td>Coahuila De Zaragoza</td>\n",
       "      <td>8537.0</td>\n",
       "    </tr>\n",
       "    <tr>\n",
       "      <th>25</th>\n",
       "      <td>Sinaloa</td>\n",
       "      <td>4840.0</td>\n",
       "    </tr>\n",
       "    <tr>\n",
       "      <th>26</th>\n",
       "      <td>Durango</td>\n",
       "      <td>12132.0</td>\n",
       "    </tr>\n",
       "    <tr>\n",
       "      <th>27</th>\n",
       "      <td>Zacatecas</td>\n",
       "      <td>3734.0</td>\n",
       "    </tr>\n",
       "    <tr>\n",
       "      <th>28</th>\n",
       "      <td>San Luis Potosi</td>\n",
       "      <td>4372.0</td>\n",
       "    </tr>\n",
       "    <tr>\n",
       "      <th>29</th>\n",
       "      <td>Nuevo Leon</td>\n",
       "      <td>9073.0</td>\n",
       "    </tr>\n",
       "    <tr>\n",
       "      <th>30</th>\n",
       "      <td>Tamaulipas</td>\n",
       "      <td>7508.0</td>\n",
       "    </tr>\n",
       "    <tr>\n",
       "      <th>31</th>\n",
       "      <td>Veracruz-Llave</td>\n",
       "      <td>5203.0</td>\n",
       "    </tr>\n",
       "  </tbody>\n",
       "</table>\n",
       "</div>"
      ],
      "text/plain": [
       "                     NAME  PCGDP1940\n",
       "0   Baja California Norte    22361.0\n",
       "1     Baja California Sur     9573.0\n",
       "2                 Nayarit     4836.0\n",
       "3                 Jalisco     5309.0\n",
       "4          Aguascalientes    10384.0\n",
       "5              Guanajuato     4359.0\n",
       "6    Queretaro de Arteaga    11016.0\n",
       "7                 Hidalgo     4414.0\n",
       "8     Michoacan de Ocampo     3327.0\n",
       "9                  Mexico     3408.0\n",
       "10       Distrito Federal    17816.0\n",
       "11                 Colima     6909.0\n",
       "12                Morelos     6936.0\n",
       "13                Yucatan     7990.0\n",
       "14               Campeche     3758.0\n",
       "15                 Puebla     3569.0\n",
       "16           Quintana Roo    21965.0\n",
       "17               Tlaxcala     3605.0\n",
       "18               Guerrero     2181.0\n",
       "19                 Oaxaca     1892.0\n",
       "20                Tabasco     2459.0\n",
       "21                Chiapas     2934.0\n",
       "22                 Sonora     6399.0\n",
       "23              Chihuahua     8578.0\n",
       "24   Coahuila De Zaragoza     8537.0\n",
       "25                Sinaloa     4840.0\n",
       "26                Durango    12132.0\n",
       "27              Zacatecas     3734.0\n",
       "28        San Luis Potosi     4372.0\n",
       "29             Nuevo Leon     9073.0\n",
       "30             Tamaulipas     7508.0\n",
       "31         Veracruz-Llave     5203.0"
      ]
     },
     "execution_count": 52,
     "metadata": {},
     "output_type": "execute_result"
    }
   ],
   "source": [
    "mx[[\"NAME\", \"PCGDP1940\"]]"
   ]
  },
  {
   "cell_type": "code",
   "execution_count": 32,
   "id": "4516accc",
   "metadata": {},
   "outputs": [
    {
     "data": {
      "image/png": "[encoded data removed]",
      "text/plain": [
       "<Figure size 640x480 with 1 Axes>"
      ]
     },
     "metadata": {},
     "output_type": "display_data"
    }
   ],
   "source": [
    "ax=seaborn.histplot(mx[\"PCGDP1940\"], bins=5)\n",
    "seaborn.rugplot(mx[\"PCGDP1940\"], height=0.05, color=\"red\", ax=ax);\n",
    "seaborn.despine()"
   ]
  },
  {
   "cell_type": "code",
   "execution_count": 30,
   "id": "a5759feb",
   "metadata": {},
   "outputs": [
    {
     "data": {
      "text/plain": [
       "count       32.000000\n",
       "mean      7230.531250\n",
       "std       5204.952883\n",
       "min       1892.000000\n",
       "25%       3701.750000\n",
       "50%       5256.000000\n",
       "75%       8701.750000\n",
       "max      22361.000000\n",
       "Name: PCGDP1940, dtype: float64"
      ]
     },
     "execution_count": 30,
     "metadata": {},
     "output_type": "execute_result"
    }
   ],
   "source": [
    "mx[\"PCGDP1940\"].describe()"
   ]
  },
  {
   "cell_type": "code",
   "execution_count": 33,
   "id": "631382c6",
   "metadata": {},
   "outputs": [],
   "source": [
    "counts, bins, patches = ax.hist(mx[\"PCGDP1940\"], bins=5)"
   ]
  },
  {
   "cell_type": "code",
   "execution_count": 35,
   "id": "a6192bd7",
   "metadata": {},
   "outputs": [
    {
     "data": {
      "text/plain": [
       "array([17.,  9.,  3.,  1.,  2.])"
      ]
     },
     "execution_count": 35,
     "metadata": {},
     "output_type": "execute_result"
    }
   ],
   "source": [
    "counts\n",
    "#The counts object captures how many observations each category in the classification has:"
   ]
  },
  {
   "cell_type": "code",
   "execution_count": 36,
   "id": "ac708fe1",
   "metadata": {},
   "outputs": [
    {
     "data": {
      "text/plain": [
       "array([ 1892. ,  5985.8, 10079.6, 14173.4, 18267.2, 22361. ])"
      ]
     },
     "execution_count": 36,
     "metadata": {},
     "output_type": "execute_result"
    }
   ],
   "source": [
    "bins\n",
    "#The bin object stores these break points we are interested in when considering classification schemes "
   ]
  },
  {
   "cell_type": "code",
   "execution_count": 37,
   "id": "490bfab8",
   "metadata": {},
   "outputs": [],
   "source": [
    "import mapclassify"
   ]
  },
  {
   "cell_type": "code",
   "execution_count": 38,
   "id": "83f553e6",
   "metadata": {},
   "outputs": [
    {
     "data": {
      "text/plain": [
       "EqualInterval               \n",
       "\n",
       "      Interval         Count\n",
       "----------------------------\n",
       "[ 1892.00,  5985.80] |    17\n",
       "( 5985.80, 10079.60] |     9\n",
       "(10079.60, 14173.40] |     3\n",
       "(14173.40, 18267.20] |     1\n",
       "(18267.20, 22361.00] |     2"
      ]
     },
     "execution_count": 38,
     "metadata": {},
     "output_type": "execute_result"
    }
   ],
   "source": [
    "ei5 = mapclassify.EqualInterval(mx[\"PCGDP1940\"], k=5)\n",
    "ei5"
   ]
  },
  {
   "cell_type": "code",
   "execution_count": 39,
   "id": "7643a180",
   "metadata": {},
   "outputs": [
    {
     "data": {
      "text/plain": [
       "Quantiles                   \n",
       "\n",
       "      Interval         Count\n",
       "----------------------------\n",
       "[ 1892.00,  3576.20] |     7\n",
       "( 3576.20,  4582.80] |     6\n",
       "( 4582.80,  6925.20] |     6\n",
       "( 6925.20,  9473.00] |     6\n",
       "( 9473.00, 22361.00] |     7"
      ]
     },
     "execution_count": 39,
     "metadata": {},
     "output_type": "execute_result"
    }
   ],
   "source": [
    "q5 = mapclassify.Quantiles(mx.PCGDP1940, k=5)\n",
    "q5"
   ]
  },
  {
   "cell_type": "code",
   "execution_count": 42,
   "id": "a2ee447b",
   "metadata": {},
   "outputs": [
    {
     "data": {
      "text/plain": [
       "array([ 1006.6,  2342.4,  2547.8, 12888. ])"
      ]
     },
     "execution_count": 42,
     "metadata": {},
     "output_type": "execute_result"
    }
   ],
   "source": [
    "q5.bins[1:] - q5.bins[:-1]"
   ]
  },
  {
   "cell_type": "markdown",
   "id": "9a1a8d8c",
   "metadata": {},
   "source": [
    "- avoids the pitfall of sparse classes"
   ]
  },
  {
   "cell_type": "code",
   "execution_count": 45,
   "id": "6fa5efbd",
   "metadata": {},
   "outputs": [
    {
     "data": {
      "text/plain": [
       "array([0, 0, 0, 0, 0, 0, 0, 0, 0, 0, 9, 7, 6, 0, 2, 9, 1, 2, 6, 7])"
      ]
     },
     "execution_count": 45,
     "metadata": {},
     "output_type": "execute_result"
    }
   ],
   "source": [
    "#Set seed for reproducibility\n",
    "\n",
    "numpy.random.seed(12345)\n",
    "\n",
    "#Generate a variable of 20 values randomly\n",
    "#selected from 0 to 10\n",
    "\n",
    "x = numpy.random.randint(0, 10, 20)\n",
    "\n",
    "#Manually ensure the first 10 values are 0\n",
    "\n",
    "x[0:10] = x.min()\n",
    "x"
   ]
  },
  {
   "cell_type": "code",
   "execution_count": 46,
   "id": "171c59a5",
   "metadata": {},
   "outputs": [],
   "source": [
    "# run quantile classification"
   ]
  },
  {
   "cell_type": "code",
   "execution_count": 47,
   "id": "775c2e43",
   "metadata": {},
   "outputs": [
    {
     "name": "stderr",
     "output_type": "stream",
     "text": [
      "/opt/homebrew/Caskroom/miniforge/base/lib/python3.9/site-packages/mapclassify/classifiers.py:238: UserWarning: Warning: Not enough unique values in array to form k classes\n",
      "  Warn(\n",
      "/opt/homebrew/Caskroom/miniforge/base/lib/python3.9/site-packages/mapclassify/classifiers.py:241: UserWarning: Warning: setting k to 4\n",
      "  Warn(\"Warning: setting k to %d\" % k_q, UserWarning)\n"
     ]
    },
    {
     "data": {
      "text/plain": [
       "Quantiles           \n",
       "\n",
       "  Interval     Count\n",
       "--------------------\n",
       "[0.00, 0.00] |    11\n",
       "(0.00, 1.40] |     1\n",
       "(1.40, 6.20] |     4\n",
       "(6.20, 9.00] |     4"
      ]
     },
     "execution_count": 47,
     "metadata": {},
     "output_type": "execute_result"
    }
   ],
   "source": [
    "ties = mapclassify.Quantiles(x, k=5)\n",
    "ties\n",
    "\n",
    "\n",
    "#sample does not contain enough values to form the number of well-defined classes requested"
   ]
  },
  {
   "cell_type": "code",
   "execution_count": 49,
   "id": "c005594b",
   "metadata": {},
   "outputs": [
    {
     "data": {
      "text/plain": [
       "array([0, 1, 2, 6, 7, 9])"
      ]
     },
     "execution_count": 49,
     "metadata": {},
     "output_type": "execute_result"
    }
   ],
   "source": [
    "ux = numpy.unique(x)\n",
    "ux"
   ]
  },
  {
   "cell_type": "code",
   "execution_count": 50,
   "id": "b5edafc4",
   "metadata": {},
   "outputs": [],
   "source": [
    "### Third classifier uses sample mean and sample standard deviation"
   ]
  },
  {
   "cell_type": "code",
   "execution_count": 51,
   "id": "0f33d90b",
   "metadata": {},
   "outputs": [
    {
     "data": {
      "text/plain": [
       "StdMean                     \n",
       "\n",
       "      Interval         Count\n",
       "----------------------------\n",
       "(    -inf, -3179.37] |     0\n",
       "(-3179.37,  2025.58] |     1\n",
       "( 2025.58, 12435.48] |    28\n",
       "(12435.48, 17640.44] |     0\n",
       "(17640.44, 22361.00] |     3"
      ]
     },
     "execution_count": 51,
     "metadata": {},
     "output_type": "execute_result"
    }
   ],
   "source": [
    "msd = mapclassify.StdMean(mx[\"PCGDP1940\"])\n",
    "msd"
   ]
  },
  {
   "cell_type": "markdown",
   "id": "4bb4be0d",
   "metadata": {},
   "source": [
    "- This classifier is best used when data is normally distributed or, at least, when the sample mean is a meaningful measure to anchor the classification around"
   ]
  },
  {
   "cell_type": "code",
   "execution_count": null,
   "id": "045ed1b8",
   "metadata": {},
   "outputs": [],
   "source": [
    "## Maximum breaks"
   ]
  }
 ],
 "metadata": {
  "kernelspec": {
   "display_name": "Python 3 (ipykernel)",
   "language": "python",
   "name": "python3"
  },
  "language_info": {
   "codemirror_mode": {
    "name": "ipython",
    "version": 3
   },
   "file_extension": ".py",
   "mimetype": "text/x-python",
   "name": "python",
   "nbconvert_exporter": "python",
   "pygments_lexer": "ipython3",
   "version": "3.9.7"
  }
 },
 "nbformat": 4,
 "nbformat_minor": 5
}
