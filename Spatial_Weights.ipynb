{
 "cells": [
  {
   "cell_type": "markdown",
   "id": "a2e3d528",
   "metadata": {},
   "source": [
    "- Connect objects in a geographic table to one another using the spatial relationships between them. "
   ]
  },
  {
   "cell_type": "markdown",
   "id": "5cbc488e",
   "metadata": {},
   "source": [
    "- Spatial weights matrices express topology(mathematical structure that expresses the connectivity between observations), letting us embed all of our observations in space together, rather than asking and answering single questions about features nearby a unit."
   ]
  },
  {
   "cell_type": "code",
   "execution_count": null,
   "id": "70ce55a2",
   "metadata": {},
   "outputs": [],
   "source": []
  },
  {
   "cell_type": "code",
   "execution_count": null,
   "id": "ab284163",
   "metadata": {},
   "outputs": [],
   "source": [
    "import contextily\n",
    "import geopandas\n",
    "import rioxarray\n",
    "import seaborn\n",
    "import pandas\n",
    "import numpy\n",
    "import matplotlib.pyplot as plt\n",
    "from shapely.geometry import Polygon\n",
    "from pysal.lib import cg as geometry\n",
    "\n",
    "from pysal.lib import weights\n",
    "\n",
    "import warnings\n",
    "\n",
    "warnings.filterwarnings(\"ignore\")"
   ]
  },
  {
   "cell_type": "markdown",
   "id": "7bce49b1",
   "metadata": {},
   "source": [
    "### Contiguity Weights"
   ]
  },
  {
   "cell_type": "markdown",
   "id": "2ea49b82",
   "metadata": {},
   "source": [
    "- Those who share a common border"
   ]
  },
  {
   "cell_type": "code",
   "execution_count": null,
   "id": "8d66a940",
   "metadata": {},
   "outputs": [],
   "source": [
    "# Get points in a grid\n",
    "\n",
    "l = numpy.arange(3)\n",
    "xs, ys = numpy.meshgrid(l, l)\n",
    "\n",
    "# Generate polygons\n",
    "polys = []\n",
    "for x, y in zip(xs.flatten(), ys.flatten()):\n",
    "    poly = Polygon([(x,y), (x+1,y), (x+1, y+1), (x, y+1)])\n",
    "    polys.append(poly)\n",
    "#Convert to Geoseries    \n",
    "polys =geopandas.GeoSeries(polys)\n",
    "gdf = geopandas.GeoDataFrame( {\n",
    "        \"geometry\": polys,\n",
    "        \"id\": [\"P-%s\" % str(i).zfill(2) for i in range(len(polys))],\n",
    "    }\n",
    ")\n",
    "    "
   ]
  },
  {
   "cell_type": "code",
   "execution_count": null,
   "id": "c043aceb",
   "metadata": {},
   "outputs": [],
   "source": [
    "# Plot grid geotable\n",
    "ax = gdf.plot(facecolor=\"w\", edgecolor=\"k\")\n",
    "\n",
    "# Loop over each cell and add the text\n",
    "for x, y, t in zip(\n",
    "    [p.centroid.x - 0.25 for p in polys],\n",
    "    [p.centroid.y - 0.25 for p in polys],\n",
    "    [i for i in gdf[\"id\"]],\n",
    "):\n",
    "    plt.text(\n",
    "        x,\n",
    "        y,\n",
    "        t,\n",
    "        verticalalignment=\"center\",\n",
    "        horizontalalignment=\"center\",\n",
    "    )\n",
    "\n",
    "# Remove axes\n",
    "ax.set_axis_off()\n",
    "plt.show()\n",
    "\n"
   ]
  },
  {
   "cell_type": "code",
   "execution_count": null,
   "id": "6a16bdd7",
   "metadata": {},
   "outputs": [],
   "source": [
    "# Build a rook contiguity matrix from a regular 3x3\n",
    "# lattice stored in a geo-table\n",
    "wr = weights.contiguity.Rook.from_dataframe(gdf)"
   ]
  },
  {
   "cell_type": "code",
   "execution_count": null,
   "id": "fcc5a141",
   "metadata": {},
   "outputs": [],
   "source": [
    "wr.neighbors"
   ]
  },
  {
   "cell_type": "code",
   "execution_count": null,
   "id": "8aa83bd7",
   "metadata": {},
   "outputs": [],
   "source": [
    "pandas.DataFrame(*wr.full()).astype(int)"
   ]
  },
  {
   "cell_type": "code",
   "execution_count": null,
   "id": "b24180e4",
   "metadata": {},
   "outputs": [],
   "source": [
    "# Build a queen contiguity matrix from a regular 3x3\n",
    "# lattice stored in a geo-table\n",
    "wq = weights.contiguity.Queen.from_dataframe(gdf)\n",
    "wq.neighbors"
   ]
  }
 ],
 "metadata": {
  "kernelspec": {
   "display_name": "Python 3 (ipykernel)",
   "language": "python",
   "name": "python3"
  },
  "language_info": {
   "codemirror_mode": {
    "name": "ipython",
    "version": 3
   },
   "file_extension": ".py",
   "mimetype": "text/x-python",
   "name": "python",
   "nbconvert_exporter": "python",
   "pygments_lexer": "ipython3",
   "version": "3.9.7"
  }
 },
 "nbformat": 4,
 "nbformat_minor": 5
}
