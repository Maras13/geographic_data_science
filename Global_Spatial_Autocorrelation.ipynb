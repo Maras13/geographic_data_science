{
 "cells": [
  {
   "cell_type": "markdown",
   "id": "86c56fc3",
   "metadata": {},
   "source": [
    "## Global Spatial Autocorrelation"
   ]
  },
  {
   "cell_type": "code",
   "execution_count": 2,
   "id": "c2397982",
   "metadata": {},
   "outputs": [],
   "source": [
    "# Graphics\n",
    "import matplotlib.pyplot as plt\n",
    "import seaborn\n",
    "from pysal.viz import splot\n",
    "from splot.esda import plot_moran\n",
    "import contextily\n",
    "\n",
    "import shapely\n",
    "\n",
    "# Analysis\n",
    "import geopandas\n",
    "import pandas\n",
    "from pysal.explore import esda\n",
    "from pysal.lib import weights\n",
    "from numpy.random import seed"
   ]
  },
  {
   "cell_type": "markdown",
   "id": "a41f9812",
   "metadata": {},
   "source": [
    "- The notion of spatial autocorrelation relates to the existence of a “functional relationship between what happens at one point in space and what happens elsewhere”\n",
    "\n",
    "- Spatial autocorrelation thus has to do with the degree to which the similarity in values between observations in a dataset is related to the similarity in locations of such observations.\n",
    "\n",
    "- Like a traditional correlation\n",
    "\n",
    "- Spatial autocorrelation relates the value of the variable of interest in a given location, with values of the same variable in other locations."
   ]
  },
  {
   "cell_type": "markdown",
   "id": "a6f00fb9",
   "metadata": {},
   "source": [
    "### Understanding Spatial Autocorrelation"
   ]
  }
 ],
 "metadata": {
  "kernelspec": {
   "display_name": "Python 3 (ipykernel)",
   "language": "python",
   "name": "python3"
  },
  "language_info": {
   "codemirror_mode": {
    "name": "ipython",
    "version": 3
   },
   "file_extension": ".py",
   "mimetype": "text/x-python",
   "name": "python",
   "nbconvert_exporter": "python",
   "pygments_lexer": "ipython3",
   "version": "3.9.7"
  }
 },
 "nbformat": 4,
 "nbformat_minor": 5
}
