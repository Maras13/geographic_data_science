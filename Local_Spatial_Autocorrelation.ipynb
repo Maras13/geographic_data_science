{
 "cells": [
  {
   "cell_type": "markdown",
   "id": "42b9922f",
   "metadata": {},
   "source": [
    "# Local Spatial Autocorrelation"
   ]
  },
  {
   "cell_type": "markdown",
   "id": "fa1609b2",
   "metadata": {},
   "source": [
    "- Despite their importance, global measures of spatial autocorrelation are “whole map” statistics. They provide a single summary for an entire data set. For example, Moran’s I is a good tool to summarize a dataset into a single value that captures the degree of geographical clustering (or dispersion, if negative). However, Moran’s I does not indicate areas within the map where specific types of values (e.g. high, low) are clustered, or instances of explicit dispersion. In other words, Moran’s I can tell us whether values in our map cluster together (or disperse) overall, but it will not inform us about where specific clusters (or outliers) are."
   ]
  },
  {
   "cell_type": "markdown",
   "id": "477804a6",
   "metadata": {},
   "source": [
    "* In this chapter, we introduce local measures of spatial autocorrelation. Local measures of spatial autocorrelation focus on the relationships between each observation and its surroundings, rather than providing a single summary of these relationships across the map. "
   ]
  },
  {
   "cell_type": "markdown",
   "id": "5fe42583",
   "metadata": {},
   "source": [
    "## An empirical illustration: the EU Referendum"
   ]
  },
  {
   "cell_type": "code",
   "execution_count": 6,
   "id": "e9aa2a68",
   "metadata": {},
   "outputs": [],
   "source": [
    "import matplotlib.pyplot as plt \n",
    "from matplotlib import colors\n",
    "import seaborn as sns  # Graphics\n",
    "import geopandas as gpd  # Spatial data manipulation\n",
    "import pandas as pd  \n",
    "import rioxarray  # Surface data manipulation\n",
    "import xarray  # Surface data manipulation\n",
    "from pysal.explore import esda  # Exploratory Spatial analytics\n",
    "from pysal.lib import weights  # Spatial weights\n",
    "import contextily  # Background tiles\n"
   ]
  },
  {
   "cell_type": "code",
   "execution_count": 5,
   "id": "0585b4aa",
   "metadata": {},
   "outputs": [],
   "source": [
    "ref = pd.read_csv(\n",
    "    \"./geo_data/brexit/brexit_vote.csv\", index_col=\"Area_Code\"\n",
    ")"
   ]
  },
  {
   "cell_type": "code",
   "execution_count": 7,
   "id": "c2dd6bd6",
   "metadata": {},
   "outputs": [],
   "source": [
    "lads = gpd.read_file(\n",
    "    \"./geo_data/brexit/local_authority_districts.geojson\"\n",
    ").set_index(\"lad16cd\")"
   ]
  },
  {
   "cell_type": "code",
   "execution_count": null,
   "id": "18faaab9",
   "metadata": {},
   "outputs": [],
   "source": []
  }
 ],
 "metadata": {
  "kernelspec": {
   "display_name": "Python 3 (ipykernel)",
   "language": "python",
   "name": "python3"
  },
  "language_info": {
   "codemirror_mode": {
    "name": "ipython",
    "version": 3
   },
   "file_extension": ".py",
   "mimetype": "text/x-python",
   "name": "python",
   "nbconvert_exporter": "python",
   "pygments_lexer": "ipython3",
   "version": "3.9.7"
  }
 },
 "nbformat": 4,
 "nbformat_minor": 5
}
